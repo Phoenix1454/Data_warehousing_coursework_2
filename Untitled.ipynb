{
 "cells": [
  {
   "cell_type": "code",
   "execution_count": 1,
   "id": "0bc05acc-7f76-4522-aaed-a46eddea8d9e",
   "metadata": {},
   "outputs": [
    {
     "data": {
      "text/html": [
       "<div>\n",
       "<style scoped>\n",
       "    .dataframe tbody tr th:only-of-type {\n",
       "        vertical-align: middle;\n",
       "    }\n",
       "\n",
       "    .dataframe tbody tr th {\n",
       "        vertical-align: top;\n",
       "    }\n",
       "\n",
       "    .dataframe thead th {\n",
       "        text-align: right;\n",
       "    }\n",
       "</style>\n",
       "<table border=\"1\" class=\"dataframe\">\n",
       "  <thead>\n",
       "    <tr style=\"text-align: right;\">\n",
       "      <th></th>\n",
       "      <th>TransactionID</th>\n",
       "      <th>CustomerID</th>\n",
       "      <th>CustomerDOB</th>\n",
       "      <th>CustGender</th>\n",
       "      <th>CustLocation</th>\n",
       "      <th>CustAccountBalance</th>\n",
       "      <th>TransactionDate</th>\n",
       "      <th>TransactionTime</th>\n",
       "      <th>TransactionAmount (INR)</th>\n",
       "    </tr>\n",
       "  </thead>\n",
       "  <tbody>\n",
       "    <tr>\n",
       "      <th>0</th>\n",
       "      <td>T1</td>\n",
       "      <td>C5841053</td>\n",
       "      <td>10/1/94</td>\n",
       "      <td>F</td>\n",
       "      <td>JAMSHEDPUR</td>\n",
       "      <td>17819.05</td>\n",
       "      <td>2/8/16</td>\n",
       "      <td>143207</td>\n",
       "      <td>25.0</td>\n",
       "    </tr>\n",
       "    <tr>\n",
       "      <th>1</th>\n",
       "      <td>T2</td>\n",
       "      <td>C2142763</td>\n",
       "      <td>4/4/57</td>\n",
       "      <td>M</td>\n",
       "      <td>JHAJJAR</td>\n",
       "      <td>2270.69</td>\n",
       "      <td>2/8/16</td>\n",
       "      <td>141858</td>\n",
       "      <td>27999.0</td>\n",
       "    </tr>\n",
       "    <tr>\n",
       "      <th>2</th>\n",
       "      <td>T3</td>\n",
       "      <td>C4417068</td>\n",
       "      <td>26/11/96</td>\n",
       "      <td>F</td>\n",
       "      <td>MUMBAI</td>\n",
       "      <td>17874.44</td>\n",
       "      <td>2/8/16</td>\n",
       "      <td>142712</td>\n",
       "      <td>459.0</td>\n",
       "    </tr>\n",
       "    <tr>\n",
       "      <th>3</th>\n",
       "      <td>T4</td>\n",
       "      <td>C5342380</td>\n",
       "      <td>14/9/73</td>\n",
       "      <td>F</td>\n",
       "      <td>MUMBAI</td>\n",
       "      <td>866503.21</td>\n",
       "      <td>2/8/16</td>\n",
       "      <td>142714</td>\n",
       "      <td>2060.0</td>\n",
       "    </tr>\n",
       "    <tr>\n",
       "      <th>4</th>\n",
       "      <td>T5</td>\n",
       "      <td>C9031234</td>\n",
       "      <td>24/3/88</td>\n",
       "      <td>F</td>\n",
       "      <td>NAVI MUMBAI</td>\n",
       "      <td>6714.43</td>\n",
       "      <td>2/8/16</td>\n",
       "      <td>181156</td>\n",
       "      <td>1762.5</td>\n",
       "    </tr>\n",
       "  </tbody>\n",
       "</table>\n",
       "</div>"
      ],
      "text/plain": [
       "  TransactionID CustomerID CustomerDOB CustGender CustLocation  \\\n",
       "0            T1   C5841053     10/1/94          F   JAMSHEDPUR   \n",
       "1            T2   C2142763      4/4/57          M      JHAJJAR   \n",
       "2            T3   C4417068    26/11/96          F       MUMBAI   \n",
       "3            T4   C5342380     14/9/73          F       MUMBAI   \n",
       "4            T5   C9031234     24/3/88          F  NAVI MUMBAI   \n",
       "\n",
       "   CustAccountBalance TransactionDate  TransactionTime  \\\n",
       "0            17819.05          2/8/16           143207   \n",
       "1             2270.69          2/8/16           141858   \n",
       "2            17874.44          2/8/16           142712   \n",
       "3           866503.21          2/8/16           142714   \n",
       "4             6714.43          2/8/16           181156   \n",
       "\n",
       "   TransactionAmount (INR)  \n",
       "0                     25.0  \n",
       "1                  27999.0  \n",
       "2                    459.0  \n",
       "3                   2060.0  \n",
       "4                   1762.5  "
      ]
     },
     "execution_count": 1,
     "metadata": {},
     "output_type": "execute_result"
    }
   ],
   "source": [
    "import pandas as pd\n",
    "# Load dataset\n",
    "df = pd.read_csv('bank_transactions.csv')\n",
    "df.head()"
   ]
  },
  {
   "cell_type": "code",
   "execution_count": 2,
   "id": "a5083ba2-9287-4358-8708-a8cf41225d4f",
   "metadata": {},
   "outputs": [
    {
     "name": "stdout",
     "output_type": "stream",
     "text": [
      "Original DataFrame Shape: (1048567, 9)\n",
      "  TransactionID CustomerID CustomerDOB CustGender CustLocation  \\\n",
      "0            T1   C5841053     10/1/94          F   JAMSHEDPUR   \n",
      "1            T2   C2142763      4/4/57          M      JHAJJAR   \n",
      "2            T3   C4417068    26/11/96          F       MUMBAI   \n",
      "3            T4   C5342380     14/9/73          F       MUMBAI   \n",
      "4            T5   C9031234     24/3/88          F  NAVI MUMBAI   \n",
      "\n",
      "   CustAccountBalance TransactionDate  TransactionTime  \\\n",
      "0            17819.05          2/8/16           143207   \n",
      "1             2270.69          2/8/16           141858   \n",
      "2            17874.44          2/8/16           142712   \n",
      "3           866503.21          2/8/16           142714   \n",
      "4             6714.43          2/8/16           181156   \n",
      "\n",
      "   TransactionAmount (INR)  \n",
      "0                     25.0  \n",
      "1                  27999.0  \n",
      "2                    459.0  \n",
      "3                   2060.0  \n",
      "4                   1762.5  \n"
     ]
    }
   ],
   "source": [
    "print(\"Original DataFrame Shape:\", df.shape)\n",
    "print(df.head())  # Show the first few rows"
   ]
  },
  {
   "cell_type": "code",
   "execution_count": 3,
   "id": "73f38e48-e077-4767-84b8-814d5f04e05b",
   "metadata": {},
   "outputs": [
    {
     "name": "stdout",
     "output_type": "stream",
     "text": [
      "TransactionID                 0\n",
      "CustomerID                    0\n",
      "CustomerDOB                3397\n",
      "CustGender                 1100\n",
      "CustLocation                151\n",
      "CustAccountBalance         2369\n",
      "TransactionDate               0\n",
      "TransactionTime               0\n",
      "TransactionAmount (INR)       0\n",
      "dtype: int64\n"
     ]
    }
   ],
   "source": [
    "# Check for missing values\n",
    "print(df.isnull().sum())"
   ]
  },
  {
   "cell_type": "code",
   "execution_count": 4,
   "id": "43cbc95c-6c08-4152-9637-059e06cd2354",
   "metadata": {},
   "outputs": [
    {
     "name": "stderr",
     "output_type": "stream",
     "text": [
      "/var/folders/sy/yh56pzc53gq3dbx96tf_j5vr0000gn/T/ipykernel_17844/2419726795.py:5: UserWarning: Could not infer format, so each element will be parsed individually, falling back to `dateutil`. To ensure parsing is consistent and as-expected, please specify a format.\n",
      "  df_cleaned['CustomerDOB'] = pd.to_datetime(df_cleaned['CustomerDOB'], errors='coerce')\n"
     ]
    },
    {
     "name": "stdout",
     "output_type": "stream",
     "text": [
      "Final Cleaned Shape: (1041614, 9)\n",
      "  TransactionID CustomerID CustomerDOB CustGender CustLocation  \\\n",
      "0            T1   C5841053  1994-10-01          F   JAMSHEDPUR   \n",
      "1            T2   C2142763  2057-04-04          M      JHAJJAR   \n",
      "2            T3   C4417068  1996-11-26          F       MUMBAI   \n",
      "3            T4   C5342380  2073-09-14          F       MUMBAI   \n",
      "4            T5   C9031234  1988-03-24          F  NAVI MUMBAI   \n",
      "\n",
      "   CustAccountBalance TransactionDate  TransactionTime  \\\n",
      "0            17819.05          2/8/16           143207   \n",
      "1             2270.69          2/8/16           141858   \n",
      "2            17874.44          2/8/16           142712   \n",
      "3           866503.21          2/8/16           142714   \n",
      "4             6714.43          2/8/16           181156   \n",
      "\n",
      "   TransactionAmount (INR)  \n",
      "0                     25.0  \n",
      "1                  27999.0  \n",
      "2                    459.0  \n",
      "3                   2060.0  \n",
      "4                   1762.5  \n"
     ]
    }
   ],
   "source": [
    "# Drop rows where critical transaction columns are missing\n",
    "df_cleaned = df.dropna(subset=['TransactionID', 'CustomerID', 'TransactionAmount (INR)'])\n",
    "\n",
    "# Convert CustomerDOB to datetime format\n",
    "df_cleaned['CustomerDOB'] = pd.to_datetime(df_cleaned['CustomerDOB'], errors='coerce')\n",
    "\n",
    "# Drop rows where CustomerDOB is NaT (invalid/missing dates)\n",
    "df_cleaned = df_cleaned[df_cleaned['CustomerDOB'].notna()]\n",
    "\n",
    "# Drop rows where CustGender, CustLocation, or CustAccountBalance are missing\n",
    "df_cleaned = df_cleaned[df_cleaned[['CustGender', 'CustLocation', 'CustAccountBalance']].notna().all(axis=1)]\n",
    "\n",
    "# Print final shape\n",
    "print(\"Final Cleaned Shape:\", df_cleaned.shape)\n",
    "\n",
    "# Display sample data\n",
    "print(df_cleaned.head())"
   ]
  },
  {
   "cell_type": "code",
   "execution_count": 5,
   "id": "c5451d51-2e47-46ee-a2ed-b6963d8772d1",
   "metadata": {},
   "outputs": [
    {
     "name": "stdout",
     "output_type": "stream",
     "text": [
      "Invalid transactions count: 820\n"
     ]
    }
   ],
   "source": [
    "# Check for invalid transaction amounts\n",
    "invalid_transactions = df_cleaned[df_cleaned['TransactionAmount (INR)'] <= 0]\n",
    "print(\"Invalid transactions count:\", len(invalid_transactions))"
   ]
  },
  {
   "cell_type": "code",
   "execution_count": 6,
   "id": "75eba474-d7f3-4833-be7d-2516188efffc",
   "metadata": {},
   "outputs": [],
   "source": [
    "# Remove invalid transactions\n",
    "df_cleaned = df_cleaned[df_cleaned['TransactionAmount (INR)'] > 0]"
   ]
  },
  {
   "cell_type": "code",
   "execution_count": 7,
   "id": "36b26648-afbd-474b-96ec-2ec5264a3696",
   "metadata": {},
   "outputs": [
    {
     "name": "stdout",
     "output_type": "stream",
     "text": [
      "Final Cleaned Shape: (879715, 10)\n",
      "  CustomerDOB  age\n",
      "0  1994-10-01   30\n",
      "2  1996-11-26   28\n",
      "4  1988-03-24   37\n",
      "6  1992-01-26   33\n",
      "7  1982-01-27   43\n"
     ]
    }
   ],
   "source": [
    "from datetime import datetime\n",
    "import pandas as pd\n",
    "\n",
    "# Ensure a copy to avoid SettingWithCopyWarning\n",
    "df_cleaned = df_cleaned.copy()\n",
    "\n",
    "# Convert CustomerDOB to datetime safely\n",
    "df_cleaned['CustomerDOB'] = pd.to_datetime(df_cleaned['CustomerDOB'], errors='coerce')\n",
    "\n",
    "# Drop rows with missing DOB\n",
    "df_cleaned = df_cleaned.dropna(subset=['CustomerDOB'])\n",
    "\n",
    "# Calculate Age more robustly\n",
    "current_date = datetime.now()\n",
    "df_cleaned['age'] = (current_date - df_cleaned['CustomerDOB']).dt.days // 365  # Convert days to years\n",
    "\n",
    "# Filter only valid age range (18-100)\n",
    "df_cleaned = df_cleaned[(df_cleaned['age'] >= 18) & (df_cleaned['age'] <= 100)]\n",
    "\n",
    "# Print final dataset shape\n",
    "print(\"Final Cleaned Shape:\", df_cleaned.shape)\n",
    "\n",
    "# Show the first few rows\n",
    "print(df_cleaned[['CustomerDOB', 'age']].head())\n"
   ]
  },
  {
   "cell_type": "code",
   "execution_count": 8,
   "id": "e15a9569-3e77-4c46-9788-c57c20de2622",
   "metadata": {},
   "outputs": [
    {
     "name": "stdout",
     "output_type": "stream",
     "text": [
      "Top 5 locations with maximum transactions:\n",
      "CustLocation\n",
      "MUMBAI       86277\n",
      "BANGALORE    70699\n",
      "NEW DELHI    66172\n",
      "GURGAON      62746\n",
      "DELHI        60490\n",
      "Name: count, dtype: int64\n"
     ]
    }
   ],
   "source": [
    "# Count transactions per location\n",
    "top_locations = df_cleaned['CustLocation'].value_counts().head(5)\n",
    "\n",
    "# Display results\n",
    "print(\"Top 5 locations with maximum transactions:\")\n",
    "print(top_locations)"
   ]
  },
  {
   "cell_type": "code",
   "execution_count": 20,
   "id": "8019ad8a-6146-4f51-b28c-8e2f3507c50c",
   "metadata": {},
   "outputs": [
    {
     "name": "stderr",
     "output_type": "stream",
     "text": [
      "/var/folders/sy/yh56pzc53gq3dbx96tf_j5vr0000gn/T/ipykernel_17844/3861125897.py:7: UserWarning: Could not infer format, so each element will be parsed individually, falling back to `dateutil`. To ensure parsing is consistent and as-expected, please specify a format.\n",
      "  df['TransactionDate'] = pd.to_datetime(df['TransactionDate'], errors='coerce', dayfirst=True)\n"
     ]
    },
    {
     "name": "stdout",
     "output_type": "stream",
     "text": [
      "✅ Valid parsed dates: 1048567 out of 1048567\n",
      "✅ RFM Data:\n",
      "  CustomerID  Recency  Frequency  Monetary\n",
      "0   C1010011       25          2    5106.0\n",
      "1   C1010012       68          1    1499.0\n",
      "2   C1010014       75          2    1455.0\n",
      "3   C1010018       36          1      30.0\n",
      "4   C1010024       64          1    5000.0\n"
     ]
    }
   ],
   "source": [
    "import pandas as pd\n",
    "\n",
    "# Load Excel file WITHOUT date parsing\n",
    "df = pd.read_csv(\"bank_transactions.csv\")\n",
    "\n",
    "# Step 1: Convert TransactionDate manually, try all formats\n",
    "df['TransactionDate'] = pd.to_datetime(df['TransactionDate'], errors='coerce', dayfirst=True)\n",
    "\n",
    "# Step 2: Check how many dates were parsed successfully\n",
    "valid_dates = df['TransactionDate'].notna().sum()\n",
    "print(f\"✅ Valid parsed dates: {valid_dates} out of {len(df)}\")\n",
    "\n",
    "# Step 3: Drop rows with bad/missing dates\n",
    "df = df.dropna(subset=['TransactionDate'])\n",
    "\n",
    "# Step 4: Set the reference date\n",
    "reference_date = df['TransactionDate'].max()\n",
    "\n",
    "# Step 5: Compute RFM metrics\n",
    "rfm_df = df.groupby('CustomerID').agg({\n",
    "    'TransactionDate': lambda x: (reference_date - x.max()).days,  # Recency\n",
    "    'TransactionID': 'count',  # Frequency\n",
    "    'TransactionAmount (INR)': 'sum'  # Monetary\n",
    "}).reset_index()\n",
    "\n",
    "# Step 6: Rename columns\n",
    "rfm_df.columns = ['CustomerID', 'Recency', 'Frequency', 'Monetary']\n",
    "\n",
    "# Step 7: Show the result\n",
    "print(\"✅ RFM Data:\")\n",
    "print(rfm_df.head())\n"
   ]
  },
  {
   "cell_type": "code",
   "execution_count": null,
   "id": "c974055d-7dc2-4c5a-843d-107c4a5b8fa2",
   "metadata": {},
   "outputs": [],
   "source": []
  }
 ],
 "metadata": {
  "kernelspec": {
   "display_name": "Python 3 (ipykernel)",
   "language": "python",
   "name": "python3"
  },
  "language_info": {
   "codemirror_mode": {
    "name": "ipython",
    "version": 3
   },
   "file_extension": ".py",
   "mimetype": "text/x-python",
   "name": "python",
   "nbconvert_exporter": "python",
   "pygments_lexer": "ipython3",
   "version": "3.12.7"
  }
 },
 "nbformat": 4,
 "nbformat_minor": 5
}
