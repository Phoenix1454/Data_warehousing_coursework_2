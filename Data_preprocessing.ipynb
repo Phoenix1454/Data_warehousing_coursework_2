{
 "cells": [
  {
   "cell_type": "code",
   "execution_count": 1,
   "id": "378477da-de1a-476b-baad-5b59bc9f103e",
   "metadata": {},
   "outputs": [
    {
     "data": {
      "text/html": [
       "<div>\n",
       "<style scoped>\n",
       "    .dataframe tbody tr th:only-of-type {\n",
       "        vertical-align: middle;\n",
       "    }\n",
       "\n",
       "    .dataframe tbody tr th {\n",
       "        vertical-align: top;\n",
       "    }\n",
       "\n",
       "    .dataframe thead th {\n",
       "        text-align: right;\n",
       "    }\n",
       "</style>\n",
       "<table border=\"1\" class=\"dataframe\">\n",
       "  <thead>\n",
       "    <tr style=\"text-align: right;\">\n",
       "      <th></th>\n",
       "      <th>TransactionID</th>\n",
       "      <th>CustomerID</th>\n",
       "      <th>CustomerDOB</th>\n",
       "      <th>CustGender</th>\n",
       "      <th>CustLocation</th>\n",
       "      <th>CustAccountBalance</th>\n",
       "      <th>TransactionDate</th>\n",
       "      <th>TransactionTime</th>\n",
       "      <th>TransactionAmount (INR)</th>\n",
       "    </tr>\n",
       "  </thead>\n",
       "  <tbody>\n",
       "    <tr>\n",
       "      <th>0</th>\n",
       "      <td>T1</td>\n",
       "      <td>C5841053</td>\n",
       "      <td>10/1/94</td>\n",
       "      <td>F</td>\n",
       "      <td>JAMSHEDPUR</td>\n",
       "      <td>17819.05</td>\n",
       "      <td>2/8/16</td>\n",
       "      <td>143207</td>\n",
       "      <td>25.0</td>\n",
       "    </tr>\n",
       "    <tr>\n",
       "      <th>1</th>\n",
       "      <td>T2</td>\n",
       "      <td>C2142763</td>\n",
       "      <td>4/4/57</td>\n",
       "      <td>M</td>\n",
       "      <td>JHAJJAR</td>\n",
       "      <td>2270.69</td>\n",
       "      <td>2/8/16</td>\n",
       "      <td>141858</td>\n",
       "      <td>27999.0</td>\n",
       "    </tr>\n",
       "    <tr>\n",
       "      <th>2</th>\n",
       "      <td>T3</td>\n",
       "      <td>C4417068</td>\n",
       "      <td>26/11/96</td>\n",
       "      <td>F</td>\n",
       "      <td>MUMBAI</td>\n",
       "      <td>17874.44</td>\n",
       "      <td>2/8/16</td>\n",
       "      <td>142712</td>\n",
       "      <td>459.0</td>\n",
       "    </tr>\n",
       "    <tr>\n",
       "      <th>3</th>\n",
       "      <td>T4</td>\n",
       "      <td>C5342380</td>\n",
       "      <td>14/9/73</td>\n",
       "      <td>F</td>\n",
       "      <td>MUMBAI</td>\n",
       "      <td>866503.21</td>\n",
       "      <td>2/8/16</td>\n",
       "      <td>142714</td>\n",
       "      <td>2060.0</td>\n",
       "    </tr>\n",
       "    <tr>\n",
       "      <th>4</th>\n",
       "      <td>T5</td>\n",
       "      <td>C9031234</td>\n",
       "      <td>24/3/88</td>\n",
       "      <td>F</td>\n",
       "      <td>NAVI MUMBAI</td>\n",
       "      <td>6714.43</td>\n",
       "      <td>2/8/16</td>\n",
       "      <td>181156</td>\n",
       "      <td>1762.5</td>\n",
       "    </tr>\n",
       "  </tbody>\n",
       "</table>\n",
       "</div>"
      ],
      "text/plain": [
       "  TransactionID CustomerID CustomerDOB CustGender CustLocation  \\\n",
       "0            T1   C5841053     10/1/94          F   JAMSHEDPUR   \n",
       "1            T2   C2142763      4/4/57          M      JHAJJAR   \n",
       "2            T3   C4417068    26/11/96          F       MUMBAI   \n",
       "3            T4   C5342380     14/9/73          F       MUMBAI   \n",
       "4            T5   C9031234     24/3/88          F  NAVI MUMBAI   \n",
       "\n",
       "   CustAccountBalance TransactionDate  TransactionTime  \\\n",
       "0            17819.05          2/8/16           143207   \n",
       "1             2270.69          2/8/16           141858   \n",
       "2            17874.44          2/8/16           142712   \n",
       "3           866503.21          2/8/16           142714   \n",
       "4             6714.43          2/8/16           181156   \n",
       "\n",
       "   TransactionAmount (INR)  \n",
       "0                     25.0  \n",
       "1                  27999.0  \n",
       "2                    459.0  \n",
       "3                   2060.0  \n",
       "4                   1762.5  "
      ]
     },
     "execution_count": 1,
     "metadata": {},
     "output_type": "execute_result"
    }
   ],
   "source": [
    "import pandas as pd\n",
    "# Load dataset\n",
    "df = pd.read_csv('bank_transactions.csv')\n",
    "df.head()"
   ]
  },
  {
   "cell_type": "code",
   "execution_count": 2,
   "id": "aa481286-5e88-4c66-bb64-7c443c1d16fc",
   "metadata": {},
   "outputs": [
    {
     "name": "stdout",
     "output_type": "stream",
     "text": [
      "Original DataFrame Shape: (1048567, 9)\n",
      "  TransactionID CustomerID CustomerDOB CustGender CustLocation  \\\n",
      "0            T1   C5841053     10/1/94          F   JAMSHEDPUR   \n",
      "1            T2   C2142763      4/4/57          M      JHAJJAR   \n",
      "2            T3   C4417068    26/11/96          F       MUMBAI   \n",
      "3            T4   C5342380     14/9/73          F       MUMBAI   \n",
      "4            T5   C9031234     24/3/88          F  NAVI MUMBAI   \n",
      "\n",
      "   CustAccountBalance TransactionDate  TransactionTime  \\\n",
      "0            17819.05          2/8/16           143207   \n",
      "1             2270.69          2/8/16           141858   \n",
      "2            17874.44          2/8/16           142712   \n",
      "3           866503.21          2/8/16           142714   \n",
      "4             6714.43          2/8/16           181156   \n",
      "\n",
      "   TransactionAmount (INR)  \n",
      "0                     25.0  \n",
      "1                  27999.0  \n",
      "2                    459.0  \n",
      "3                   2060.0  \n",
      "4                   1762.5  \n"
     ]
    }
   ],
   "source": [
    "print(\"Original DataFrame Shape:\", df.shape)\n",
    "print(df.head())  # Show the first few rows"
   ]
  },
  {
   "cell_type": "markdown",
   "id": "e5548fe2-51b9-4e62-9e46-4b1eb2ca7636",
   "metadata": {},
   "source": [
    "# Task A1: Identify and Remove Null Values"
   ]
  },
  {
   "cell_type": "code",
   "execution_count": 3,
   "id": "05abe076-16ba-4389-99c7-6ec78167e0e9",
   "metadata": {},
   "outputs": [
    {
     "name": "stdout",
     "output_type": "stream",
     "text": [
      "TransactionID                 0\n",
      "CustomerID                    0\n",
      "CustomerDOB                3397\n",
      "CustGender                 1100\n",
      "CustLocation                151\n",
      "CustAccountBalance         2369\n",
      "TransactionDate               0\n",
      "TransactionTime               0\n",
      "TransactionAmount (INR)       0\n",
      "dtype: int64\n"
     ]
    }
   ],
   "source": [
    "# Check for missing values\n",
    "print(df.isnull().sum())"
   ]
  },
  {
   "cell_type": "markdown",
   "id": "7a8636d6-b6d1-461c-a45e-8c252e42ad55",
   "metadata": {},
   "source": [
    "### As we can see there are 4 cloumsn who has missing values"
   ]
  },
  {
   "cell_type": "code",
   "execution_count": 4,
   "id": "518c96f4-deba-4d30-beb0-136fa86cd886",
   "metadata": {},
   "outputs": [
    {
     "name": "stderr",
     "output_type": "stream",
     "text": [
      "/var/folders/sy/yh56pzc53gq3dbx96tf_j5vr0000gn/T/ipykernel_1667/2419726795.py:5: UserWarning: Could not infer format, so each element will be parsed individually, falling back to `dateutil`. To ensure parsing is consistent and as-expected, please specify a format.\n",
      "  df_cleaned['CustomerDOB'] = pd.to_datetime(df_cleaned['CustomerDOB'], errors='coerce')\n"
     ]
    },
    {
     "name": "stdout",
     "output_type": "stream",
     "text": [
      "Final Cleaned Shape: (1041614, 9)\n",
      "  TransactionID CustomerID CustomerDOB CustGender CustLocation  \\\n",
      "0            T1   C5841053  1994-10-01          F   JAMSHEDPUR   \n",
      "1            T2   C2142763  2057-04-04          M      JHAJJAR   \n",
      "2            T3   C4417068  1996-11-26          F       MUMBAI   \n",
      "3            T4   C5342380  2073-09-14          F       MUMBAI   \n",
      "4            T5   C9031234  1988-03-24          F  NAVI MUMBAI   \n",
      "\n",
      "   CustAccountBalance TransactionDate  TransactionTime  \\\n",
      "0            17819.05          2/8/16           143207   \n",
      "1             2270.69          2/8/16           141858   \n",
      "2            17874.44          2/8/16           142712   \n",
      "3           866503.21          2/8/16           142714   \n",
      "4             6714.43          2/8/16           181156   \n",
      "\n",
      "   TransactionAmount (INR)  \n",
      "0                     25.0  \n",
      "1                  27999.0  \n",
      "2                    459.0  \n",
      "3                   2060.0  \n",
      "4                   1762.5  \n"
     ]
    }
   ],
   "source": [
    "# Drop rows where critical transaction columns are missing\n",
    "df_cleaned = df.dropna(subset=['TransactionID', 'CustomerID', 'TransactionAmount (INR)'])\n",
    "\n",
    "# Convert CustomerDOB to datetime format\n",
    "df_cleaned['CustomerDOB'] = pd.to_datetime(df_cleaned['CustomerDOB'], errors='coerce')\n",
    "\n",
    "# Drop rows where CustomerDOB is NaT (invalid/missing dates)\n",
    "df_cleaned = df_cleaned[df_cleaned['CustomerDOB'].notna()]\n",
    "\n",
    "# Drop rows where CustGender, CustLocation, or CustAccountBalance are missing\n",
    "df_cleaned = df_cleaned[df_cleaned[['CustGender', 'CustLocation', 'CustAccountBalance']].notna().all(axis=1)]\n",
    "\n",
    "# Print final shape\n",
    "print(\"Final Cleaned Shape:\", df_cleaned.shape)\n",
    "\n",
    "# Display sample data\n",
    "print(df_cleaned.head())"
   ]
  },
  {
   "cell_type": "markdown",
   "id": "1e43c7c7-0ac7-4541-bd7d-3da7018f469b",
   "metadata": {},
   "source": [
    "### We have removed the rows with the null values for better analysis."
   ]
  },
  {
   "cell_type": "markdown",
   "id": "49ef490e-c00b-4548-9bb8-4dd9dd1390c0",
   "metadata": {},
   "source": [
    "# Task A2: Identify and Remove Invalid Transaction Amount Values"
   ]
  },
  {
   "cell_type": "code",
   "execution_count": 5,
   "id": "d468756c-c507-4472-a7d7-dd375c357c5c",
   "metadata": {},
   "outputs": [
    {
     "name": "stdout",
     "output_type": "stream",
     "text": [
      "Invalid transactions count: 820\n"
     ]
    }
   ],
   "source": [
    "# Check for invalid transaction amounts\n",
    "invalid_transactions = df_cleaned[df_cleaned['TransactionAmount (INR)'] <= 0]\n",
    "print(\"Invalid transactions count:\", len(invalid_transactions))"
   ]
  },
  {
   "cell_type": "markdown",
   "id": "e6e6ca46-ae5c-4760-993b-07d6c46a22e9",
   "metadata": {},
   "source": [
    "### So after removing missing data we have finally got there are 820 rows who have invalid Transaction. We need to clean it for better analysis."
   ]
  },
  {
   "cell_type": "code",
   "execution_count": 6,
   "id": "da568241-87a2-482d-aa88-d94798917a65",
   "metadata": {},
   "outputs": [],
   "source": [
    "# Remove invalid transactions\n",
    "df_cleaned = df_cleaned[df_cleaned['TransactionAmount (INR)'] > 0]"
   ]
  },
  {
   "cell_type": "markdown",
   "id": "f168adef-59a2-488d-814d-18b4be1fe9cb",
   "metadata": {},
   "source": [
    "# Task A3: Identify and Remove Invalid Age Values"
   ]
  },
  {
   "cell_type": "code",
   "execution_count": 7,
   "id": "a1c739aa-6eaf-41a3-b1b4-d585c8bfedb2",
   "metadata": {},
   "outputs": [
    {
     "name": "stdout",
     "output_type": "stream",
     "text": [
      "Final Cleaned Shape: (879715, 10)\n",
      "  CustomerDOB  age\n",
      "0  1994-10-01   30\n",
      "2  1996-11-26   28\n",
      "4  1988-03-24   37\n",
      "6  1992-01-26   33\n",
      "7  1982-01-27   43\n"
     ]
    }
   ],
   "source": [
    "from datetime import datetime\n",
    "import pandas as pd\n",
    "\n",
    "# Ensure a copy to avoid SettingWithCopyWarning\n",
    "df_cleaned = df_cleaned.copy()\n",
    "\n",
    "# Convert CustomerDOB to datetime safely\n",
    "df_cleaned['CustomerDOB'] = pd.to_datetime(df_cleaned['CustomerDOB'], errors='coerce')\n",
    "\n",
    "# Drop rows with missing DOB\n",
    "df_cleaned = df_cleaned.dropna(subset=['CustomerDOB'])\n",
    "\n",
    "# Calculate Age more robustly\n",
    "current_date = datetime.now()\n",
    "df_cleaned['age'] = (current_date - df_cleaned['CustomerDOB']).dt.days // 365  # Convert days to years\n",
    "\n",
    "# Filter only valid age range (18-100)\n",
    "df_cleaned = df_cleaned[(df_cleaned['age'] >= 18) & (df_cleaned['age'] <= 100)]\n",
    "\n",
    "# Print final dataset shape\n",
    "print(\"Final Cleaned Shape:\", df_cleaned.shape)\n",
    "\n",
    "# Show the first few rows\n",
    "print(df_cleaned[['CustomerDOB', 'age']].head())\n"
   ]
  },
  {
   "cell_type": "markdown",
   "id": "085237d8-00c0-48bf-a70b-0e6249a0c0c8",
   "metadata": {},
   "source": [
    "# Task A4: Display the 5 Top Locations with Maximum Transactions"
   ]
  },
  {
   "cell_type": "code",
   "execution_count": 8,
   "id": "a586aa8d-b145-4ddc-8559-6b719a3bfe21",
   "metadata": {},
   "outputs": [
    {
     "name": "stdout",
     "output_type": "stream",
     "text": [
      "Top 5 locations with maximum transactions:\n",
      "CustLocation\n",
      "MUMBAI       86277\n",
      "BANGALORE    70699\n",
      "NEW DELHI    66172\n",
      "GURGAON      62746\n",
      "DELHI        60490\n",
      "Name: count, dtype: int64\n"
     ]
    }
   ],
   "source": [
    "# Count transactions per location\n",
    "top_locations = df_cleaned['CustLocation'].value_counts().head(5)\n",
    "\n",
    "# Display results\n",
    "print(\"Top 5 locations with maximum transactions:\")\n",
    "print(top_locations)"
   ]
  },
  {
   "cell_type": "markdown",
   "id": "2b499997-6a1f-49bd-b44c-603294fd454f",
   "metadata": {},
   "source": [
    "# Task A5: Calculate RFM Values"
   ]
  },
  {
   "cell_type": "code",
   "execution_count": 9,
   "id": "deb24838-52c9-4587-bb73-68db3826ee0c",
   "metadata": {},
   "outputs": [
    {
     "name": "stdout",
     "output_type": "stream",
     "text": [
      "            Recency  Frequency  Monetary\n",
      "CustomerID                              \n",
      "C1010011        NaN          2    5106.0\n",
      "C1010012        NaN          1    1499.0\n",
      "C1010014        NaN          2    1455.0\n",
      "C1010018        NaN          1      30.0\n",
      "C1010028        NaN          1     557.0\n"
     ]
    }
   ],
   "source": [
    "import pandas as pd\n",
    "\n",
    "# Specify date format explicitly (adjust format if needed)\n",
    "df_cleaned['TransactionDate'] = pd.to_datetime(df_cleaned['TransactionDate'], format='%d/%m/%Y', errors='coerce')\n",
    "\n",
    "# Set reference date (Assume max transaction date as today)\n",
    "reference_date = df_cleaned['TransactionDate'].max()\n",
    "\n",
    "# Calculate RFM Metrics per Customer\n",
    "rfm_df = df_cleaned.groupby('CustomerID').agg({\n",
    "    'TransactionDate': lambda x: (reference_date - x.max()).days,  # Recency (Days since last transaction)\n",
    "    'TransactionID': 'count',  # Frequency (Number of transactions)\n",
    "    'TransactionAmount (INR)': 'sum'  # Monetary (Total amount spent)\n",
    "})\n",
    "\n",
    "# Rename columns\n",
    "rfm_df.rename(columns={\n",
    "    'TransactionDate': 'Recency',\n",
    "    'TransactionID': 'Frequency',\n",
    "    'TransactionAmount (INR)': 'Monetary'\n",
    "}, inplace=True)\n",
    "\n",
    "# Display first few rows\n",
    "print(rfm_df.head())"
   ]
  },
  {
   "cell_type": "markdown",
   "id": "251f8e93-eeed-4a3b-bf24-5c5401530877",
   "metadata": {},
   "source": [
    "# Task A6: Check Distribution of RFM Values"
   ]
  },
  {
   "cell_type": "code",
   "execution_count": 10,
   "id": "86d1358a-e84a-461e-b6d3-4f680e18995a",
   "metadata": {},
   "outputs": [
    {
     "data": {
      "image/png": "[encoded data removed]",
      "text/plain": [
       "<Figure size 1500x500 with 3 Axes>"
      ]
     },
     "metadata": {},
     "output_type": "display_data"
    }
   ],
   "source": [
    "import matplotlib.pyplot as plt\n",
    "import seaborn as sns\n",
    "\n",
    "# Plot distribution of RFM values\n",
    "fig, axes = plt.subplots(1, 3, figsize=(15, 5))\n",
    "\n",
    "sns.histplot(rfm_df['Recency'], bins=50, kde=True, ax=axes[0])\n",
    "axes[0].set_title(\"Recency Distribution\")\n",
    "\n",
    "sns.histplot(rfm_df['Frequency'], bins=50, kde=True, ax=axes[1])\n",
    "axes[1].set_title(\"Frequency Distribution\")\n",
    "\n",
    "sns.histplot(rfm_df['Monetary'], bins=50, kde=True, ax=axes[2])\n",
    "axes[2].set_title(\"Monetary Distribution\")\n",
    "\n",
    "plt.tight_layout()\n",
    "plt.show()\n"
   ]
  },
  {
   "cell_type": "markdown",
   "id": "280fba02-6ecf-40a9-8936-afe9a52d45c6",
   "metadata": {},
   "source": [
    "# Task A7: Handle Skewness"
   ]
  },
  {
   "cell_type": "markdown",
   "id": "bc14f144-8ea9-4156-88ff-c3be4949a062",
   "metadata": {},
   "source": [
    "### RFM data is usually right-skewed (many customers have low frequency/monetary values).\n",
    "### We apply log transformation to normalize it."
   ]
  },
  {
   "cell_type": "code",
   "execution_count": 11,
   "id": "0e561e48-10d9-4c5a-97cd-0b7ebcd0ad76",
   "metadata": {},
   "outputs": [
    {
     "ename": "NameError",
     "evalue": "name 'rfm_djf' is not defined",
     "output_type": "error",
     "traceback": [
      "\u001b[0;31m---------------------------------------------------------------------------\u001b[0m",
      "\u001b[0;31mNameError\u001b[0m                                 Traceback (most recent call last)",
      "Cell \u001b[0;32mIn[11], line 6\u001b[0m\n\u001b[1;32m      4\u001b[0m rfm_df[\u001b[38;5;124m'\u001b[39m\u001b[38;5;124mRecency_log\u001b[39m\u001b[38;5;124m'\u001b[39m] \u001b[38;5;241m=\u001b[39m np\u001b[38;5;241m.\u001b[39mlog1p(rfm_df[\u001b[38;5;124m'\u001b[39m\u001b[38;5;124mRecency\u001b[39m\u001b[38;5;124m'\u001b[39m])\n\u001b[1;32m      5\u001b[0m rfm_df[\u001b[38;5;124m'\u001b[39m\u001b[38;5;124mFrequency_log\u001b[39m\u001b[38;5;124m'\u001b[39m] \u001b[38;5;241m=\u001b[39m np\u001b[38;5;241m.\u001b[39mlog1p(rfm_df[\u001b[38;5;124m'\u001b[39m\u001b[38;5;124mFrequency\u001b[39m\u001b[38;5;124m'\u001b[39m])\n\u001b[0;32m----> 6\u001b[0m rfm_df[\u001b[38;5;124m'\u001b[39m\u001b[38;5;124mMonetary_log\u001b[39m\u001b[38;5;124m'\u001b[39m] \u001b[38;5;241m=\u001b[39m np\u001b[38;5;241m.\u001b[39mlog1p(rfm_djf[\u001b[38;5;124m'\u001b[39m\u001b[38;5;124mMonetary\u001b[39m\u001b[38;5;124m'\u001b[39m])\n\u001b[1;32m      8\u001b[0m \u001b[38;5;66;03m# Plot transformed distributions\u001b[39;00m\n\u001b[1;32m      9\u001b[0m fig, axes \u001b[38;5;241m=\u001b[39m plt\u001b[38;5;241m.\u001b[39msubplots(\u001b[38;5;241m1\u001b[39m, \u001b[38;5;241m3\u001b[39m, figsize\u001b[38;5;241m=\u001b[39m(\u001b[38;5;241m15\u001b[39m, \u001b[38;5;241m5\u001b[39m))\n",
      "\u001b[0;31mNameError\u001b[0m: name 'rfm_djf' is not defined"
     ]
    }
   ],
   "source": [
    "import numpy as np\n",
    "\n",
    "# Apply log transformation to reduce skewness\n",
    "rfm_df['Recency_log'] = np.log1p(rfm_df['Recency'])\n",
    "rfm_df['Frequency_log'] = np.log1p(rfm_df['Frequency'])\n",
    "rfm_df['Monetary_log'] = np.log1p(rfm_djf['Monetary'])\n",
    "\n",
    "# Plot transformed distributions\n",
    "fig, axes = plt.subplots(1, 3, figsize=(15, 5))\n",
    "\n",
    "sns.histplot(rfm_df['Recency_log'], bins=50, kde=True, ax=axes[0])\n",
    "axes[0].set_title(\"Recency (Log Transformed)\")\n",
    "\n",
    "sns.histplot(rfm_df['Frequency_log'], bins=50, kde=True, ax=axes[1])\n",
    "axes[1].set_title(\"Frequency (Log Transformed)\")\n",
    "\n",
    "sns.histplot(rfm_df['Monetary_log'], bins=50, kde=True, ax=axes[2])\n",
    "axes[2].set_title(\"Monetary (Log Transformed)\")\n",
    "\n",
    "plt.tight_layout()\n",
    "plt.show()\n"
   ]
  },
  {
   "cell_type": "markdown",
   "id": "5bf1dbfb-cddf-48a1-a404-814be2f6ce58",
   "metadata": {},
   "source": [
    "### Discussion on Skewness\n",
    "Issue: The raw RFM values were right-skewed (many customers had low values).\n",
    "\n",
    "\n",
    "Solution: Log transformation reduced skewness, making the data more normally distributed, which helps in clustering and segmentation."
   ]
  },
  {
   "cell_type": "markdown",
   "id": "69649892-abe9-4234-82e9-dd88eeaf3d25",
   "metadata": {},
   "source": [
    "# Now that we've calculated Recency, Frequency, and Monetary (RFM) values, the next step is to segment customers using K-Means clustering."
   ]
  },
  {
   "cell_type": "markdown",
   "id": "f2694c24-b9ea-406f-af27-e7effc452e81",
   "metadata": {},
   "source": [
    "## Task B1: Why Use K-Means for Customer Segmentation?\n",
    "K-Means is a clustering algorithm that groups similar customers together based on their RFM values.\n",
    "\n",
    "Why is K-Means appropriate?\n",
    "\n",
    "Unsupervised Learning: No predefined labels—groups (clusters) are found automatically.\n",
    "\n",
    "Scalability: Works well with large datasets (e.g., 800K+ customers).\n",
    "\n",
    "Interpretable Clusters: Creates well-separated groups based on customer purchasing behavior.\n",
    "\n",
    "Useful for Marketing: Segmentation helps in personalized marketing, promotions, and customer retention strategies.\n",
    "\n",
    "Limitations:\n",
    "\n",
    "K-Means assumes clusters are spherical and of similar size, which may not always be true.\n",
    "\n",
    "It requires defining the number of clusters (K-value) in advance."
   ]
  },
  {
   "cell_type": "markdown",
   "id": "1adade94-1452-46ca-ae6a-027f5595577d",
   "metadata": {},
   "source": [
    "## Task B2: Choosing the Best Value of K (Number of Clusters)"
   ]
  },
  {
   "cell_type": "markdown",
   "id": "1d2b040a-34da-457f-876e-6f1d847dadeb",
   "metadata": {},
   "source": [
    "Before applying K-Means, we need to determine the optimal number of clusters (K).\n",
    "\n",
    "Elbow Method:\n",
    "\n",
    "Plots the Within-Cluster Sum of Squares (WCSS) for different values of K.\n",
    "\n",
    "Choose the K where the \"elbow\" (sharp bend) occurs."
   ]
  },
  {
   "cell_type": "code",
   "execution_count": null,
   "id": "78bf0b1f-1677-4bb5-8fab-a7c52d7b28ee",
   "metadata": {},
   "outputs": [],
   "source": [
    "import numpy as np\n",
    "import matplotlib.pyplot as plt\n",
    "from sklearn.cluster import KMeans\n",
    "from sklearn.preprocessing import StandardScaler\n",
    "\n",
    "# Normalize the RFM data (important for K-Means)\n",
    "scaler = StandardScaler()\n",
    "rfm_scaled = scaler.fit_transform(rfm_df[['Recency_log', 'Frequency_log', 'Monetary_log']])\n",
    "\n",
    "# Try different values of K\n",
    "wcss = []  # Store Within-Cluster Sum of Squares\n",
    "K_range = range(2, 11)  # Testing K values from 2 to 10\n",
    "\n",
    "for k in K_range:\n",
    "    kmeans = KMeans(n_clusters=k, random_state=42)\n",
    "    kmeans.fit(rfm_scaled)\n",
    "    wcss.append(kmeans.inertia_)  # WCSS score for each K\n",
    "\n",
    "# Plot the Elbow Method graph\n",
    "plt.plot(K_range, wcss, marker='o')\n",
    "plt.xlabel('Number of Clusters (K)')\n",
    "plt.ylabel('WCSS')\n",
    "plt.title('Elbow Method for Optimal K')\n",
    "plt.show()\n"
   ]
  },
  {
   "cell_type": "code",
   "execution_count": null,
   "id": "54fcf166-1afd-44d1-b0b1-cf31ab243479",
   "metadata": {},
   "outputs": [],
   "source": [
    "print(rfm_df.head())"
   ]
  },
  {
   "cell_type": "code",
   "execution_count": null,
   "id": "ef69c0e5-222f-45cc-8b8a-bcda20917a1f",
   "metadata": {},
   "outputs": [],
   "source": []
  }
 ],
 "metadata": {
  "kernelspec": {
   "display_name": "Python 3 (ipykernel)",
   "language": "python",
   "name": "python3"
  },
  "language_info": {
   "codemirror_mode": {
    "name": "ipython",
    "version": 3
   },
   "file_extension": ".py",
   "mimetype": "text/x-python",
   "name": "python",
   "nbconvert_exporter": "python",
   "pygments_lexer": "ipython3",
   "version": "3.12.7"
  }
 },
 "nbformat": 4,
 "nbformat_minor": 5
}
